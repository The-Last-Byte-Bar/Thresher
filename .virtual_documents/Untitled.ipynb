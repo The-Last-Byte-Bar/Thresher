import pandas as pd
import json
import os
import matplotlib.pyplot as plt

# Define the path to the JSON file
data_folder = "data"
json_file = os.path.join(data_folder, "swaps_20250115_145900.json")

# Load the JSON data
with open(json_file, 'r') as f:
    raw_data = json.load(f)

# Convert to DataFrame
df = pd.DataFrame(raw_data["swaps"])

# Convert timestamp to datetime for better visualization
df['timestamp'] = pd.to_datetime(df['timestamp'], unit='ms')

# Create a "pair" column for input-output token pairs
df['pair'] = df['input_token_name'] + " -> " + df['output_token_name']

# Add liquidity as a feature (input + output amounts adjusted)
df['liquidity'] = df['input_amount_adjusted'] + df['output_amount_adjusted']

# Calculate price volatility for each pair
pair_volatility = df.groupby('pair')['price'].std().reset_index()
pair_volatility.columns = ['pair', 'price_volatility']
df = df.merge(pair_volatility, on='pair', how='left')

# Normalize price, liquidity, and other numerical columns for consistency
from sklearn.preprocessing import MinMaxScaler

scaler = MinMaxScaler()
df[['input_amount_adjusted', 'output_amount_adjusted', 'price', 'liquidity']] = scaler.fit_transform(
    df[['input_amount_adjusted', 'output_amount_adjusted', 'price', 'liquidity']]
)

# Save a cleaned version of the dataset for future use
cleaned_data_file = os.path.join(data_folder, "cleaned_swap_data.csv")
df.to_csv(cleaned_data_file, index=False)

# Visualization: Most active pairs by liquidity
most_active_pairs = df.groupby('pair')['liquidity'].sum().sort_values(ascending=False).head(10)
plt.figure(figsize=(10, 6))
most_active_pairs.plot(kind='bar', title="Top 10 Most Active Trading Pairs by Liquidity")
plt.xlabel("Token Pairs")
plt.ylabel("Normalized Liquidity")
plt.show()

# Visualization: Price trends over time for top pairs
top_pairs = most_active_pairs.index.tolist()
filtered_df = df[df['pair'].isin(top_pairs)]

plt.figure(figsize=(12, 8))
for pair in top_pairs:
    pair_data = filtered_df[filtered_df['pair'] == pair]
    plt.plot(pair_data['timestamp'], pair_data['price'], label=pair)

plt.title("Price Trends Over Time for Top Trading Pairs")
plt.xlabel("Time")
plt.ylabel("Normalized Price")
plt.legend()
plt.show()

# Display the cleaned data to the user
import ace_tools as tools; tools.display_dataframe_to_user(name="Cleaned Swap Data", dataframe=df)



!pip install ace_tools



